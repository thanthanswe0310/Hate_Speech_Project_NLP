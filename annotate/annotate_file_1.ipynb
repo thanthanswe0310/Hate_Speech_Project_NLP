{
 "cells": [
  {
   "cell_type": "code",
   "execution_count": 1,
   "metadata": {},
   "outputs": [],
   "source": [
    "import pandas as pd\n",
    "import numpy as np"
   ]
  },
  {
   "cell_type": "code",
   "execution_count": 2,
   "metadata": {},
   "outputs": [],
   "source": [
    "annotate_1= pd.read_csv(\"annotate_1.csv\")\n",
    "annotate_2= pd.read_csv(\"annotate_2.csv\")\n",
    "annotate_3=pd.read_csv(\"annotate_3.csv\")"
   ]
  },
  {
   "cell_type": "code",
   "execution_count": 3,
   "metadata": {},
   "outputs": [],
   "source": [
    "cols=['LexFound', 'postId', 'cId', 'nId', 'MsgUniSeg',\n",
    "       'NewHSWordInSentence', 'IsCOVID19', 'IsHS', 'IsHSL']\n",
    "\n",
    "annotate_1 = annotate_1[cols]"
   ]
  },
  {
   "cell_type": "code",
   "execution_count": 4,
   "metadata": {},
   "outputs": [],
   "source": [
    "cols=['LexFound', 'postId', 'cId', 'nId', 'MsgUniSeg',\n",
    "       'NewHSWordInSentence', 'IsCOVID19', 'IsHS', 'IsHSL']\n",
    "\n",
    "annotate_2 = annotate_2[cols]"
   ]
  },
  {
   "cell_type": "code",
   "execution_count": 5,
   "metadata": {},
   "outputs": [],
   "source": [
    "cols=['IsPost','LexFound', 'postId', 'cId', 'nId', 'MsgUniSeg',\n",
    "       'NewHSWordInSentence', 'IsCOVID19', 'IsHS', 'IsHSL']\n",
    "\n",
    "annotate_3 = annotate_3[cols]"
   ]
  },
  {
   "cell_type": "code",
   "execution_count": 6,
   "metadata": {},
   "outputs": [],
   "source": [
    "annotation = [annotate_1, annotate_2, annotate_3]\n",
    "\n",
    "hatespeech = pd.concat(annotation)"
   ]
  },
  {
   "cell_type": "code",
   "execution_count": 7,
   "metadata": {},
   "outputs": [
    {
     "data": {
      "text/plain": [
       "Index(['LexFound', 'postId', 'cId', 'nId', 'MsgUniSeg', 'NewHSWordInSentence',\n",
       "       'IsCOVID19', 'IsHS', 'IsHSL', 'IsPost'],\n",
       "      dtype='object')"
      ]
     },
     "execution_count": 7,
     "metadata": {},
     "output_type": "execute_result"
    }
   ],
   "source": [
    "hatespeech.columns"
   ]
  },
  {
   "cell_type": "code",
   "execution_count": 8,
   "metadata": {},
   "outputs": [
    {
     "data": {
      "text/html": [
       "<div>\n",
       "<style scoped>\n",
       "    .dataframe tbody tr th:only-of-type {\n",
       "        vertical-align: middle;\n",
       "    }\n",
       "\n",
       "    .dataframe tbody tr th {\n",
       "        vertical-align: top;\n",
       "    }\n",
       "\n",
       "    .dataframe thead th {\n",
       "        text-align: right;\n",
       "    }\n",
       "</style>\n",
       "<table border=\"1\" class=\"dataframe\">\n",
       "  <thead>\n",
       "    <tr style=\"text-align: right;\">\n",
       "      <th></th>\n",
       "      <th>LexFound</th>\n",
       "      <th>postId</th>\n",
       "      <th>cId</th>\n",
       "      <th>nId</th>\n",
       "      <th>MsgUniSeg</th>\n",
       "      <th>NewHSWordInSentence</th>\n",
       "      <th>IsCOVID19</th>\n",
       "      <th>IsHS</th>\n",
       "      <th>IsHSL</th>\n",
       "      <th>IsPost</th>\n",
       "    </tr>\n",
       "  </thead>\n",
       "  <tbody>\n",
       "    <tr>\n",
       "      <th>0</th>\n",
       "      <td>ကုလားတွေ</td>\n",
       "      <td>25032020_0278</td>\n",
       "      <td>331</td>\n",
       "      <td>0</td>\n",
       "      <td>ဗမာတွေ ကို ပဲ အပြစ်ပြော ရဲ ကျ တယ် ဟို ရင် တစ် ...</td>\n",
       "      <td>NaN</td>\n",
       "      <td>0</td>\n",
       "      <td>1</td>\n",
       "      <td>1</td>\n",
       "      <td>NaN</td>\n",
       "    </tr>\n",
       "    <tr>\n",
       "      <th>1</th>\n",
       "      <td>ကုလားတွေ</td>\n",
       "      <td>25032020_0278</td>\n",
       "      <td>189</td>\n",
       "      <td>0</td>\n",
       "      <td>ပြည် သူ တွေ အကာ ကွယ် လုပ် ချင် လုပ် မ လုပ် ချင...</td>\n",
       "      <td>AA သူပုန်,  မူ စ လင် ကုလား</td>\n",
       "      <td>0</td>\n",
       "      <td>1</td>\n",
       "      <td>1</td>\n",
       "      <td>NaN</td>\n",
       "    </tr>\n",
       "    <tr>\n",
       "      <th>2</th>\n",
       "      <td>ကုလားတွေ</td>\n",
       "      <td>25032020_0266</td>\n",
       "      <td>32</td>\n",
       "      <td>43</td>\n",
       "      <td>အိုင် ဇ နရ ခိုင် တွေ တော့ အားနာ တယ် ငါ့ မိန်းမ...</td>\n",
       "      <td>NaN</td>\n",
       "      <td>0</td>\n",
       "      <td>1</td>\n",
       "      <td>1</td>\n",
       "      <td>NaN</td>\n",
       "    </tr>\n",
       "    <tr>\n",
       "      <th>3</th>\n",
       "      <td>ကြံ့ဖွတ်</td>\n",
       "      <td>25032020_0235</td>\n",
       "      <td>1260</td>\n",
       "      <td>0</td>\n",
       "      <td>ငါ လိုး မ သား ခွေး လိုး မ သား ကြံ့ဖွတ်</td>\n",
       "      <td>NaN</td>\n",
       "      <td>0</td>\n",
       "      <td>1</td>\n",
       "      <td>1</td>\n",
       "      <td>NaN</td>\n",
       "    </tr>\n",
       "    <tr>\n",
       "      <th>4</th>\n",
       "      <td>ကြံ့ဖွတ်</td>\n",
       "      <td>25032020_0235</td>\n",
       "      <td>1204</td>\n",
       "      <td>0</td>\n",
       "      <td>ဒီလို ပဲ မ ထူး ဇာတ်ခင်း ပြီး မိုက်တွင်းနက် နေ ...</td>\n",
       "      <td>NaN</td>\n",
       "      <td>0</td>\n",
       "      <td>0</td>\n",
       "      <td>0</td>\n",
       "      <td>NaN</td>\n",
       "    </tr>\n",
       "  </tbody>\n",
       "</table>\n",
       "</div>"
      ],
      "text/plain": [
       "   LexFound         postId   cId nId  \\\n",
       "0  ကုလားတွေ  25032020_0278   331   0   \n",
       "1  ကုလားတွေ  25032020_0278   189   0   \n",
       "2  ကုလားတွေ  25032020_0266    32  43   \n",
       "3  ကြံ့ဖွတ်  25032020_0235  1260   0   \n",
       "4  ကြံ့ဖွတ်  25032020_0235  1204   0   \n",
       "\n",
       "                                           MsgUniSeg  \\\n",
       "0  ဗမာတွေ ကို ပဲ အပြစ်ပြော ရဲ ကျ တယ် ဟို ရင် တစ် ...   \n",
       "1  ပြည် သူ တွေ အကာ ကွယ် လုပ် ချင် လုပ် မ လုပ် ချင...   \n",
       "2  အိုင် ဇ နရ ခိုင် တွေ တော့ အားနာ တယ် ငါ့ မိန်းမ...   \n",
       "3             ငါ လိုး မ သား ခွေး လိုး မ သား ကြံ့ဖွတ်   \n",
       "4  ဒီလို ပဲ မ ထူး ဇာတ်ခင်း ပြီး မိုက်တွင်းနက် နေ ...   \n",
       "\n",
       "          NewHSWordInSentence IsCOVID19 IsHS IsHSL IsPost  \n",
       "0                         NaN         0    1     1    NaN  \n",
       "1  AA သူပုန်,  မူ စ လင် ကုလား         0    1     1    NaN  \n",
       "2                         NaN         0    1     1    NaN  \n",
       "3                         NaN         0    1     1    NaN  \n",
       "4                         NaN         0    0     0    NaN  "
      ]
     },
     "execution_count": 8,
     "metadata": {},
     "output_type": "execute_result"
    }
   ],
   "source": [
    "hatespeech.head()"
   ]
  },
  {
   "cell_type": "code",
   "execution_count": 9,
   "metadata": {},
   "outputs": [
    {
     "data": {
      "text/plain": [
       "LexFound               object\n",
       "postId                 object\n",
       "cId                    object\n",
       "nId                    object\n",
       "MsgUniSeg              object\n",
       "NewHSWordInSentence    object\n",
       "IsCOVID19              object\n",
       "IsHS                   object\n",
       "IsHSL                  object\n",
       "IsPost                 object\n",
       "dtype: object"
      ]
     },
     "execution_count": 9,
     "metadata": {},
     "output_type": "execute_result"
    }
   ],
   "source": [
    "hatespeech.dtypes"
   ]
  },
  {
   "cell_type": "code",
   "execution_count": 11,
   "metadata": {},
   "outputs": [
    {
     "data": {
      "text/plain": [
       "0       False\n",
       "1       False\n",
       "2       False\n",
       "3       False\n",
       "4       False\n",
       "        ...  \n",
       "3595    False\n",
       "3596    False\n",
       "3597    False\n",
       "3598    False\n",
       "3599    False\n",
       "Name: LexFound, Length: 15367, dtype: bool"
      ]
     },
     "execution_count": 11,
     "metadata": {},
     "output_type": "execute_result"
    }
   ],
   "source": [
    "hatespeech['LexFound'].isnull()"
   ]
  },
  {
   "cell_type": "code",
   "execution_count": null,
   "metadata": {},
   "outputs": [],
   "source": []
  }
 ],
 "metadata": {
  "kernelspec": {
   "display_name": "Python 3",
   "language": "python",
   "name": "python3"
  },
  "language_info": {
   "codemirror_mode": {
    "name": "ipython",
    "version": 3
   },
   "file_extension": ".py",
   "mimetype": "text/x-python",
   "name": "python",
   "nbconvert_exporter": "python",
   "pygments_lexer": "ipython3",
   "version": "3.8.2"
  }
 },
 "nbformat": 4,
 "nbformat_minor": 4
}
