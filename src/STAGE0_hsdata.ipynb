{
 "cells": [
  {
   "cell_type": "code",
   "execution_count": null,
   "metadata": {},
   "outputs": [
    {
     "name": "stdout",
     "output_type": "stream",
     "text": [
      "> /home/curiousgirl/Public/Desktop/hate-speech/dashboard/src/HateSpeechData.py(22)HateSpeechData()\n",
      "-> LEX = hsle.LoadLexiconSet(False, None, True)\n",
      "(Pdb) \n",
      "(Pdb) LEX\n",
      "*** NameError: name 'LEX' is not defined\n"
     ]
    }
   ],
   "source": [
    "import pandas as pd\n",
    "import sys\n",
    "from tqdm import tqdm\n",
    "# sys.path.append('../../hsle/src')\n",
    "# import HsleCandidateGenerationUtils as hsle\n",
    "from CrowdTangleExportCommentsTools import HsleCandidateGenerationUtils as hsle\n",
    "import HateSpeechData as hsd\n",
    "from glob import glob"
   ]
  },
  {
   "cell_type": "code",
   "execution_count": null,
   "metadata": {
    "tags": []
   },
   "outputs": [],
   "source": [
    "files = glob('../../hsle/data/exportcomments-outputs/*/processed/merged.csv')\n",
    "# for f in tqdm(files):\n",
    "#     df = pd.read_csv(f)\n",
    "#     if df.shape[1]<8:\n",
    "#         df.to_csv(f, sep=',')\n",
    "files.sort()\n",
    "print(len(files))\n",
    "data = hsd.HateSpeechData(files)\n",
    "data.run()"
   ]
  },
  {
   "cell_type": "code",
   "execution_count": null,
   "metadata": {},
   "outputs": [],
   "source": []
  },
  {
   "cell_type": "code",
   "execution_count": null,
   "metadata": {},
   "outputs": [],
   "source": []
  }
 ],
 "metadata": {
  "file_extension": ".py",
  "kernelspec": {
   "display_name": "Python 3",
   "language": "python",
   "name": "python3"
  },
  "language_info": {
   "codemirror_mode": {
    "name": "ipython",
    "version": 3
   },
   "file_extension": ".py",
   "mimetype": "text/x-python",
   "name": "python",
   "nbconvert_exporter": "python",
   "pygments_lexer": "ipython3",
   "version": "3.7.7"
  },
  "mimetype": "text/x-python",
  "name": "python",
  "npconvert_exporter": "python",
  "pygments_lexer": "ipython3",
  "version": 3
 },
 "nbformat": 4,
 "nbformat_minor": 2
}
